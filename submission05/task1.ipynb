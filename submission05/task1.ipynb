{
 "cells": [
  {
   "cell_type": "code",
   "execution_count": 1,
   "metadata": {},
   "outputs": [],
   "source": [
    "import numpy as np\n",
    "import torch\n",
    "import torch.optim as optim\n",
    "import matplotlib.pyplot as plt\n",
    "import torch.nn as nn"
   ]
  },
  {
   "cell_type": "code",
   "execution_count": 2,
   "metadata": {},
   "outputs": [],
   "source": [
    "t_c = [0.5,  14.0, 15.0, 28.0, 11.0,  8.0,  3.0, -4.0,  6.0, 13.0, 21.0]\n",
    "t_u = [35.7, 55.9, 58.2, 81.9, 56.3, 48.9, 33.9, 21.8, 48.4, 60.4, 68.4]\n",
    "t_c = torch.tensor(t_c).unsqueeze(1) # <1>\n",
    "t_u = torch.tensor(t_u).unsqueeze(1) # <1>\n",
    "\n",
    "n_inputs = t_u.shape[1]\n",
    "n_outputs = t_c.shape[1]\n",
    "\n",
    "n_samples = t_u.shape[0]\n",
    "n_val = int(0.2 * n_samples)\n",
    "\n",
    "shuffled_indices = torch.randperm(n_samples)\n",
    "\n",
    "train_indices = shuffled_indices[:-n_val]\n",
    "val_indices = shuffled_indices[-n_val:]"
   ]
  },
  {
   "cell_type": "code",
   "execution_count": 3,
   "metadata": {},
   "outputs": [],
   "source": [
    "t_u_train = t_u[train_indices]\n",
    "t_c_train = t_c[train_indices]\n",
    "\n",
    "t_u_val = t_u[val_indices]\n",
    "t_c_val = t_c[val_indices]\n",
    "\n",
    "t_un_train = 0.1 * t_u_train\n",
    "t_un_val = 0.1 * t_u_val"
   ]
  },
  {
   "cell_type": "code",
   "execution_count": 4,
   "metadata": {},
   "outputs": [],
   "source": [
    "def training_loop(n_epochs, optimizer, model, loss_fn, t_u_train, t_u_val,\n",
    "                  t_c_train, t_c_val):\n",
    "    for epoch in range(1, n_epochs + 1):\n",
    "        t_p_train = model(t_u_train) # <1>\n",
    "        loss_train = loss_fn(t_p_train, t_c_train)\n",
    "\n",
    "        t_p_val = model(t_u_val) # <1>\n",
    "        loss_val = loss_fn(t_p_val, t_c_val)\n",
    "        \n",
    "        optimizer.zero_grad()\n",
    "        loss_train.backward() # <2>\n",
    "        optimizer.step()\n",
    "\n",
    "        if epoch == 1 or epoch % 1000 == 0:\n",
    "            print(f\"Epoch {epoch}, Training loss {loss_train.item():.4f},\"\n",
    "                  f\" Validation loss {loss_val.item():.4f}\")"
   ]
  },
  {
   "cell_type": "code",
   "execution_count": 5,
   "metadata": {},
   "outputs": [
    {
     "data": {
      "text/plain": [
       "Sequential(\n",
       "  (hidden_linear): Linear(in_features=1, out_features=100, bias=True)\n",
       "  (hidden_activation): Tanh()\n",
       "  (output_linear): Linear(in_features=100, out_features=1, bias=True)\n",
       ")"
      ]
     },
     "execution_count": 5,
     "metadata": {},
     "output_type": "execute_result"
    }
   ],
   "source": [
    "from collections import OrderedDict\n",
    "\n",
    "inpt = input(\"give number of hidden neurons: \")\n",
    "n_outputs = int(inpt)\n",
    "\n",
    "seq_model = nn.Sequential(OrderedDict([\n",
    "    ('hidden_linear', nn.Linear(1, n_outputs)),\n",
    "    ('hidden_activation', nn.Tanh()),\n",
    "    ('output_linear', nn.Linear(n_outputs, 1))\n",
    "]))\n",
    "\n",
    "seq_model"
   ]
  },
  {
   "cell_type": "code",
   "execution_count": 6,
   "metadata": {},
   "outputs": [
    {
     "name": "stdout",
     "output_type": "stream",
     "text": [
      "Epoch 1, Training loss 219.1892, Validation loss 39.7832\n",
      "Epoch 1000, Training loss 3.3921, Validation loss 1.9936\n",
      "Epoch 2000, Training loss 2.8026, Validation loss 1.1565\n",
      "Epoch 3000, Training loss 3.3120, Validation loss 0.9035\n",
      "Epoch 4000, Training loss 2.9820, Validation loss 0.4742\n",
      "Epoch 5000, Training loss 2.7625, Validation loss 0.2223\n",
      "output tensor([[-4.3369],\n",
      "        [ 8.6864]], grad_fn=<AddmmBackward0>)\n",
      "answer tensor([[-4.],\n",
      "        [ 8.]])\n",
      "hidden tensor([[-5.1186e+00],\n",
      "        [-7.6267e-03],\n",
      "        [-1.6503e-02],\n",
      "        [ 2.5135e-02],\n",
      "        [ 1.9065e-03],\n",
      "        [ 1.8569e-02],\n",
      "        [ 6.7370e-02],\n",
      "        [ 8.2513e+00],\n",
      "        [ 6.9911e-03],\n",
      "        [ 5.0315e-04],\n",
      "        [-8.1636e+00],\n",
      "        [-8.9524e-01],\n",
      "        [-5.4637e+00],\n",
      "        [ 6.5182e+00],\n",
      "        [-3.6006e+00],\n",
      "        [-2.6396e-02],\n",
      "        [-6.8671e+00],\n",
      "        [-2.7462e-03],\n",
      "        [-5.7385e+00],\n",
      "        [ 3.1066e-01],\n",
      "        [ 1.4374e+00],\n",
      "        [ 7.3647e+00],\n",
      "        [ 2.4985e-03],\n",
      "        [-2.2469e-02],\n",
      "        [ 5.8992e+00],\n",
      "        [ 7.7415e+00],\n",
      "        [ 6.2389e+00],\n",
      "        [-1.1173e-02],\n",
      "        [-4.1403e+00],\n",
      "        [-3.0472e-03],\n",
      "        [-9.0362e+00],\n",
      "        [ 1.7096e-03],\n",
      "        [ 2.7051e+00],\n",
      "        [ 8.0485e-03],\n",
      "        [-1.2388e+00],\n",
      "        [ 5.8924e-04],\n",
      "        [ 8.3314e-03],\n",
      "        [-6.3400e+00],\n",
      "        [ 7.1385e+00],\n",
      "        [-5.2294e-02],\n",
      "        [ 3.2301e-03],\n",
      "        [ 8.1825e-03],\n",
      "        [ 3.1066e+00],\n",
      "        [-2.9044e-03],\n",
      "        [ 2.9142e+00],\n",
      "        [ 1.5613e-02],\n",
      "        [ 7.4762e+00],\n",
      "        [ 2.1123e-02],\n",
      "        [-6.7160e-03],\n",
      "        [-3.9931e-03],\n",
      "        [ 3.3889e+00],\n",
      "        [-4.1809e-03],\n",
      "        [-6.0176e-01],\n",
      "        [ 3.2220e+00],\n",
      "        [-1.6636e-03],\n",
      "        [ 1.2301e+00],\n",
      "        [ 4.6499e+00],\n",
      "        [ 9.5812e-03],\n",
      "        [-1.9096e+00],\n",
      "        [-1.9351e-02],\n",
      "        [-6.2303e+00],\n",
      "        [ 1.5160e+00],\n",
      "        [-2.2830e+00],\n",
      "        [ 4.3110e+00],\n",
      "        [ 4.8185e-03],\n",
      "        [-3.2218e-02],\n",
      "        [ 1.2100e-02],\n",
      "        [-1.1683e-02],\n",
      "        [ 5.3696e-02],\n",
      "        [-1.7720e-03],\n",
      "        [ 3.4723e-03],\n",
      "        [-6.2572e+00],\n",
      "        [-7.0826e-02],\n",
      "        [ 1.0138e-02],\n",
      "        [ 5.5750e-01],\n",
      "        [-4.6909e-04],\n",
      "        [-3.7933e+00],\n",
      "        [-6.9875e+00],\n",
      "        [ 1.4265e-03],\n",
      "        [-2.2370e-03],\n",
      "        [-1.4592e-02],\n",
      "        [ 1.9139e-03],\n",
      "        [-1.3363e-03],\n",
      "        [ 2.3351e+00],\n",
      "        [ 2.1452e-04],\n",
      "        [ 8.4535e-03],\n",
      "        [-1.1037e+00],\n",
      "        [ 5.8799e-03],\n",
      "        [-3.9732e+00],\n",
      "        [-1.5958e-03],\n",
      "        [ 1.7942e-02],\n",
      "        [ 6.5854e-03],\n",
      "        [ 1.7429e-03],\n",
      "        [ 8.0025e+00],\n",
      "        [-1.5032e+00],\n",
      "        [ 2.1193e-03],\n",
      "        [-3.2301e-03],\n",
      "        [ 2.3454e+00],\n",
      "        [-2.5268e-03],\n",
      "        [-1.3070e+00]])\n"
     ]
    }
   ],
   "source": [
    "inpt = input(\"give learning rate: \")\n",
    "learnrate = float(inpt)\n",
    "optimizer = optim.SGD(seq_model.parameters(), lr=learnrate) # <1>\n",
    "\n",
    "training_loop(\n",
    "    n_epochs = 5000, \n",
    "    optimizer = optimizer,\n",
    "    model = seq_model,\n",
    "    loss_fn = nn.MSELoss(),\n",
    "    t_u_train = t_un_train,\n",
    "    t_u_val = t_un_val, \n",
    "    t_c_train = t_c_train,\n",
    "    t_c_val = t_c_val)\n",
    "    \n",
    "print('output', seq_model(t_un_val))\n",
    "print('answer', t_c_val)\n",
    "print('hidden', seq_model.hidden_linear.weight.grad)"
   ]
  },
  {
   "cell_type": "code",
   "execution_count": 7,
   "metadata": {},
   "outputs": [
    {
     "data": {
      "image/png": "[encoded data removed]",
      "text/plain": [
       "<Figure size 640x480 with 1 Axes>"
      ]
     },
     "metadata": {},
     "output_type": "display_data"
    }
   ],
   "source": [
    "from matplotlib import pyplot as plt\n",
    "\n",
    "t_range = torch.arange(20., 90.).unsqueeze(1)\n",
    "\n",
    "plt.xlabel(\"Fahrenheit\")\n",
    "plt.ylabel(\"Celsius\")\n",
    "plt.plot(t_u.numpy(), t_c.numpy(), 'o')\n",
    "plt.plot(t_range.numpy(), seq_model(0.1 * t_range).detach().numpy(), 'c-')\n",
    "plt.plot(t_u.numpy(), seq_model(0.1 * t_u).detach().numpy(), 'kx')\n",
    "plt.show()"
   ]
  },
  {
   "attachments": {},
   "cell_type": "markdown",
   "metadata": {},
   "source": [
    "Bei dem Experimentieren mit der Erhögung der Anzahl der versteckten Neuronen fällt auf, dass bei gleichbleibender learning rate, ein optisch besseres Ergebnis und oftmals ein eher lineares Ausgangsverhalten erzeugt wird. Overfitting wird vor allem dann provoziert, wenn die learning rate erhöht wird. Wird die Anzahl der versteckten Neuronen auf eins gesetzt, so ähnelt das vorausgesagte Verhältnis der tanh Anktivierungsfunktion. Abschließend lässt sich festhalten, dass beide Parameter auf einander abgestimmt werdn müssen (Parametertuning), um ein Netz mit einem guten trainings loss und validation loss zu generiern. "
   ]
  }
 ],
 "metadata": {
  "kernelspec": {
   "display_name": "base",
   "language": "python",
   "name": "python3"
  },
  "language_info": {
   "codemirror_mode": {
    "name": "ipython",
    "version": 3
   },
   "file_extension": ".py",
   "mimetype": "text/x-python",
   "name": "python",
   "nbconvert_exporter": "python",
   "pygments_lexer": "ipython3",
   "version": "3.9.13"
  },
  "orig_nbformat": 4
 },
 "nbformat": 4,
 "nbformat_minor": 2
}
