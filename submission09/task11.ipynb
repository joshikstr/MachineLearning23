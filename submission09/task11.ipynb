{
  "cells": [
    {
      "cell_type": "code",
      "execution_count": 26,
      "metadata": {
        "colab": {
          "base_uri": "https://localhost:8080/"
        },
        "id": "26uJATTA0w-G",
        "outputId": "553117d6-889d-4bb4-bdb3-0f53b3d67a4d"
      },
      "outputs": [
        {
          "data": {
            "text/plain": [
              "<torch._C.Generator at 0x7fe8e01bcd50>"
            ]
          },
          "execution_count": 26,
          "metadata": {},
          "output_type": "execute_result"
        }
      ],
      "source": [
        "from matplotlib import pyplot as plt\n",
        "import numpy as np\n",
        "import collections\n",
        "\n",
        "import torch\n",
        "import torch.nn as nn\n",
        "import torch.nn.functional as F\n",
        "import torch.optim as optim\n",
        "\n",
        "import datetime\n",
        "\n",
        "torch.set_printoptions(edgeitems=2)\n",
        "torch.manual_seed(123)"
      ]
    },
    {
      "cell_type": "code",
      "execution_count": 27,
      "metadata": {
        "colab": {
          "base_uri": "https://localhost:8080/"
        },
        "id": "NTv3bAoR0w-J",
        "outputId": "5dfe0d0c-e162-4be4-adaf-5aa48088ac10"
      },
      "outputs": [
        {
          "name": "stdout",
          "output_type": "stream",
          "text": [
            "Files already downloaded and verified\n"
          ]
        }
      ],
      "source": [
        "class_names = ['airplane','automobile','bird','cat','deer',\n",
        "               'dog','frog','horse','ship','truck']\n",
        "\n",
        "from torchvision import datasets, transforms\n",
        "data_path = 'data/'\n",
        "\n",
        "\n",
        "cifar10 = datasets.CIFAR10(\n",
        "    data_path, train=True, download=True,\n",
        "    transform=transforms.Compose([\n",
        "        transforms.ToTensor(),\n",
        "        transforms.Normalize((0.4915, 0.4823, 0.4468),\n",
        "                             (0.2470, 0.2435, 0.2616))\n",
        "    ]))"
      ]
    },
    {
      "cell_type": "code",
      "execution_count": 28,
      "metadata": {
        "colab": {
          "base_uri": "https://localhost:8080/"
        },
        "id": "9VUNkV9p0w-J",
        "outputId": "7ae06721-7fc2-4ea7-9529-14e71c1f1518"
      },
      "outputs": [
        {
          "name": "stdout",
          "output_type": "stream",
          "text": [
            "Files already downloaded and verified\n"
          ]
        }
      ],
      "source": [
        "cifar10_val = datasets.CIFAR10(\n",
        "    data_path, train=False, download=True,\n",
        "    transform=transforms.Compose([\n",
        "        transforms.ToTensor(),\n",
        "        transforms.Normalize((0.4915, 0.4823, 0.4468),\n",
        "                             (0.2470, 0.2435, 0.2616))\n",
        "    ]))"
      ]
    },
    {
      "cell_type": "code",
      "execution_count": 29,
      "metadata": {
        "id": "WqUxWpKz0w-L"
      },
      "outputs": [],
      "source": [
        "label_map = {0: 0, 2: 1}\n",
        "class_names = ['airplane', 'bird']\n",
        "cifar2 = [(img, label_map[label])\n",
        "          for img, label in cifar10\n",
        "          if label in [0, 2]]\n",
        "cifar2_val = [(img, label_map[label])\n",
        "              for img, label in cifar10_val\n",
        "              if label in [0, 2]]"
      ]
    },
    {
      "cell_type": "code",
      "execution_count": 30,
      "metadata": {
        "colab": {
          "base_uri": "https://localhost:8080/"
        },
        "id": "XpFEC58m0w-M",
        "outputId": "51c46e38-5114-47c6-a21b-f0dffd502923"
      },
      "outputs": [
        {
          "name": "stdout",
          "output_type": "stream",
          "text": [
            "Training on device cuda.\n"
          ]
        }
      ],
      "source": [
        "device = (torch.device('cuda') if torch.cuda.is_available()\n",
        "          else torch.device('cpu'))\n",
        "print(f\"Training on device {device}.\")"
      ]
    },
    {
      "cell_type": "code",
      "execution_count": 31,
      "metadata": {
        "id": "4o0BIWkALYpU"
      },
      "outputs": [],
      "source": [
        "augmentation_transform = transforms.Compose([\n",
        "    transforms.RandomHorizontalFlip(),\n",
        "    transforms.RandomCrop(32, padding=4),\n",
        "])"
      ]
    },
    {
      "cell_type": "code",
      "execution_count": 32,
      "metadata": {
        "id": "Y3Rp7P5m0w-M"
      },
      "outputs": [],
      "source": [
        "def training_loop(n_epochs, optimizer, model, loss_fn, train_loader, val_loader):\n",
        "    loss_train_norm = np.zeros(n_epochs)\n",
        "    loss_val_norm = np.zeros(n_epochs)\n",
        "    for epoch in range(1, n_epochs + 1):\n",
        "        loss_train = 0.0\n",
        "        loss_val = 0.0\n",
        "        for imgs, labels in train_loader:\n",
        "            imgs = augmentation_transform(imgs)\n",
        "            imgs = imgs.to(device=device)  # <1>\n",
        "            labels = labels.to(device=device)\n",
        "            outputs = model(imgs)\n",
        "            loss = loss_fn(outputs, labels)\n",
        "\n",
        "            optimizer.zero_grad()\n",
        "            loss.backward()\n",
        "            optimizer.step()\n",
        "\n",
        "            loss_train += loss.item()\n",
        "\n",
        "        loss_train_norm[epoch-1] = loss_train / len(train_loader)\n",
        "\n",
        "        for imgs, labels in val_loader:\n",
        "            imgs = imgs.to(device=device)  # <1>\n",
        "            labels = labels.to(device=device)\n",
        "            outputs = model(imgs)\n",
        "            loss = loss_fn(outputs, labels)\n",
        "\n",
        "            loss_val += loss.item()\n",
        "\n",
        "        loss_val_norm[epoch-1] = loss_val / len(val_loader)\n",
        "\n",
        "        if epoch == 1 or epoch % 10 == 0:\n",
        "          print('{} Epoch {}, Training loss {}'.format(\n",
        "              datetime.datetime.now(), epoch,\n",
        "              loss_train_norm[epoch-1]))\n",
        "          print('{} Epoch {}, Validation loss {}'.format(\n",
        "              datetime.datetime.now(), epoch,\n",
        "              loss_val_norm[epoch-1]))\n",
        "\n",
        "    return loss_train_norm, loss_val_norm"
      ]
    },
    {
      "cell_type": "code",
      "execution_count": 33,
      "metadata": {
        "id": "sE0dQKFl0w-N"
      },
      "outputs": [],
      "source": [
        "def validate(model, train_loader, val_loader):\n",
        "    accdict = {}\n",
        "    for name, loader in [(\"train\", train_loader), (\"val\", val_loader)]:\n",
        "        correct = 0\n",
        "        total = 0\n",
        "\n",
        "        with torch.no_grad():\n",
        "            for imgs, labels in loader:\n",
        "                imgs = imgs.to(device=device)\n",
        "                labels = labels.to(device=device)\n",
        "                outputs = model(imgs)\n",
        "                _, predicted = torch.max(outputs, dim=1) # <1>\n",
        "                total += labels.shape[0]\n",
        "                correct += int((predicted == labels).sum())\n",
        "\n",
        "        print(\"Accuracy {}: {:.2f}\".format(name , correct / total))\n",
        "        accdict[name] = correct / total\n",
        "    return accdict"
      ]
    },
    {
      "cell_type": "code",
      "execution_count": 34,
      "metadata": {
        "id": "nirfN_qj0w-N"
      },
      "outputs": [],
      "source": [
        "class WideResidualBlock(nn.Module):\n",
        "    def __init__(self, in_channels, out_channels, stride=1):\n",
        "        super().__init__()\n",
        "        self.bn1 = nn.BatchNorm2d(in_channels)\n",
        "        self.conv1 = nn.Conv2d(in_channels, out_channels, kernel_size=3, stride=stride, padding=1, bias=False)\n",
        "        self.bn2 = nn.BatchNorm2d(out_channels)\n",
        "        self.conv2 = nn.Conv2d(out_channels, out_channels, kernel_size=3, stride=1, padding=1, bias=False)\n",
        "        self.shortcut = nn.Sequential()\n",
        "\n",
        "        if stride != 1 or in_channels != out_channels:\n",
        "            self.shortcut = nn.Sequential(\n",
        "                nn.Conv2d(in_channels, out_channels, kernel_size=1, stride=stride, bias=False),\n",
        "                nn.BatchNorm2d(out_channels)\n",
        "            )\n",
        "\n",
        "    def forward(self, x):\n",
        "        residual = x\n",
        "\n",
        "        out = self.bn1(x)\n",
        "        out = F.relu(out)\n",
        "        out = self.conv1(out)\n",
        "\n",
        "        out = self.bn2(out)\n",
        "        out = F.relu(out)\n",
        "        out = self.conv2(out)\n",
        "\n",
        "        out += self.shortcut(residual)\n",
        "        return out\n",
        "\n",
        "\n",
        "class WideResNet(nn.Module):\n",
        "    def __init__(self):\n",
        "        super().__init__()\n",
        "\n",
        "        num_blocks = 28\n",
        "        k = 2\n",
        "        num_classes = 2\n",
        "\n",
        "        n = (num_blocks - 4) // 6\n",
        "\n",
        "        self.conv1 = nn.Conv2d(3, 16, kernel_size=3, stride=1, padding=1, bias=False)\n",
        "        self.bn1 = nn.BatchNorm2d(16)\n",
        "\n",
        "        self.block1 = self._wide_block(WideResidualBlock, 16, 16*k, n, stride=1)\n",
        "        self.block2 = self._wide_block(WideResidualBlock, 16*k, 32*k, n, stride=2)\n",
        "        self.block3 = self._wide_block(WideResidualBlock, 32*k, 64*k, n, stride=2)\n",
        "\n",
        "        self.avgpool = nn.AdaptiveAvgPool2d(1)\n",
        "        self.fc = nn.Linear(64*k, num_classes)\n",
        "\n",
        "    def _wide_block(self, block, in_channels, out_channels, num_blocks, stride):\n",
        "        layers = []\n",
        "        layers.append(block(in_channels, out_channels, stride))\n",
        "\n",
        "        for _ in range(1, num_blocks):\n",
        "            layers.append(block(out_channels, out_channels, stride=1))\n",
        "\n",
        "        return nn.Sequential(*layers)\n",
        "\n",
        "    def forward(self, x):\n",
        "        out = self.conv1(x)\n",
        "        out = self.bn1(out)\n",
        "\n",
        "        out = self.block1(out)\n",
        "        out = self.block2(out)\n",
        "        out = self.block3(out)\n",
        "\n",
        "        out = self.avgpool(out)\n",
        "        out = out.view(out.size(0), -1)\n",
        "        out = self.fc(out)\n",
        "\n",
        "        return out\n",
        "\n"
      ]
    },
    {
      "cell_type": "code",
      "execution_count": 35,
      "metadata": {
        "colab": {
          "base_uri": "https://localhost:8080/"
        },
        "id": "_Bi-iSbi0w-N",
        "outputId": "cb194746-3410-4c8a-e9d5-3b2e848e710b"
      },
      "outputs": [
        {
          "name": "stdout",
          "output_type": "stream",
          "text": [
            "2023-06-20 13:21:40.668178 Epoch 1, Training loss 0.47290045611417975\n",
            "2023-06-20 13:21:40.668298 Epoch 1, Validation loss 0.6000658916309476\n",
            "2023-06-20 13:22:33.368155 Epoch 10, Training loss 0.2814683656973444\n",
            "2023-06-20 13:22:33.368275 Epoch 10, Validation loss 0.2976506822742522\n",
            "2023-06-20 13:23:31.284022 Epoch 20, Training loss 0.20631820974266454\n",
            "2023-06-20 13:23:31.284139 Epoch 20, Validation loss 0.26023258175700903\n",
            "2023-06-20 13:24:29.451542 Epoch 30, Training loss 0.16030929505730132\n",
            "2023-06-20 13:24:29.451689 Epoch 30, Validation loss 0.25103657017461956\n",
            "2023-06-20 13:25:27.473536 Epoch 40, Training loss 0.13225249974590958\n",
            "2023-06-20 13:25:27.473665 Epoch 40, Validation loss 0.20814455393701792\n",
            "2023-06-20 13:26:25.525217 Epoch 50, Training loss 0.10133631053457784\n",
            "2023-06-20 13:26:25.525355 Epoch 50, Validation loss 0.33234785753302276\n",
            "2023-06-20 13:27:23.695477 Epoch 60, Training loss 0.08088255699451087\n",
            "2023-06-20 13:27:23.695603 Epoch 60, Validation loss 0.16802631958853453\n",
            "2023-06-20 13:28:21.909142 Epoch 70, Training loss 0.05904320855535994\n",
            "2023-06-20 13:28:21.909268 Epoch 70, Validation loss 0.2566095753572881\n",
            "2023-06-20 13:29:20.083471 Epoch 80, Training loss 0.05117138849636599\n",
            "2023-06-20 13:29:20.084380 Epoch 80, Validation loss 0.25261990923900157\n",
            "2023-06-20 13:30:18.287372 Epoch 90, Training loss 0.04443319581721904\n",
            "2023-06-20 13:30:18.287514 Epoch 90, Validation loss 0.23274738900363445\n",
            "2023-06-20 13:31:16.623263 Epoch 100, Training loss 0.04408270312446484\n",
            "2023-06-20 13:31:16.623394 Epoch 100, Validation loss 0.42270532017573714\n",
            "Accuracy train: 0.95\n",
            "Accuracy val: 0.92\n",
            "1466802\n"
          ]
        }
      ],
      "source": [
        "model = WideResNet()  #  <2>\n",
        "torch.save(model.state_dict(), data_path + 'birds_vs_airplanes.pt')\n",
        "\n",
        "loaded_model =  WideResNet().to(device=device)\n",
        "loaded_model.load_state_dict(torch.load(data_path\n",
        "                                        + 'birds_vs_airplanes.pt',\n",
        "                                        map_location=device))\n",
        "\n",
        "train_loader = torch.utils.data.DataLoader(cifar2, batch_size=64,\n",
        "                                           shuffle=True)\n",
        "val_loader = torch.utils.data.DataLoader(cifar2_val, batch_size=64,\n",
        "                                         shuffle=True)\n",
        "\n",
        "\n",
        "model =  WideResNet().to(device=device)\n",
        "optimizer = optim.SGD(model.parameters(), lr=1e-2)\n",
        "loss_fn = nn.CrossEntropyLoss()\n",
        "\n",
        "losstrain, lossval = training_loop(\n",
        "    n_epochs = 100,\n",
        "    optimizer = optimizer,\n",
        "    model = model,\n",
        "    loss_fn = loss_fn,\n",
        "    train_loader = train_loader,\n",
        "    val_loader = val_loader\n",
        ")\n",
        "\n",
        "train_loader = torch.utils.data.DataLoader(cifar2, batch_size=64,\n",
        "                                           shuffle=False)\n",
        "val_loader = torch.utils.data.DataLoader(cifar2_val, batch_size=64,\n",
        "                                         shuffle=False)\n",
        "all_acc_dict = collections.OrderedDict()\n",
        "\n",
        "all_acc_dict[\"baseline\"] = validate(model, train_loader, val_loader)\n",
        "\n",
        "print(sum(p.numel() for p in model.parameters()))"
      ]
    },
    {
      "cell_type": "code",
      "execution_count": 36,
      "metadata": {
        "colab": {
          "base_uri": "https://localhost:8080/",
          "height": 449
        },
        "id": "20dTr2Mv0w-O",
        "outputId": "ceffd7cb-1e1e-4898-ca2e-057620c93571"
      },
      "outputs": [
        {
          "data": {
            "image/png": "[encoded data removed]",
            "text/plain": [
              "<Figure size 640x480 with 1 Axes>"
            ]
          },
          "metadata": {},
          "output_type": "display_data"
        }
      ],
      "source": [
        "plt.plot(losstrain)\n",
        "plt.plot(lossval)\n",
        "plt.legend(['loss train', 'loss val'])\n",
        "plt.xlabel('iterations')\n",
        "plt.ylabel('loss')\n",
        "plt.show()"
      ]
    },
    {
      "cell_type": "code",
      "execution_count": 38,
      "metadata": {
        "colab": {
          "base_uri": "https://localhost:8080/",
          "height": 428
        },
        "id": "eDuGhfVu6ysm",
        "outputId": "a05a72b8-1a33-470d-960c-3e88802221f7"
      },
      "outputs": [
        {
          "data": {
            "image/png": "[encoded data removed]",
            "text/plain": [
              "<Figure size 640x480 with 1 Axes>"
            ]
          },
          "metadata": {},
          "output_type": "display_data"
        }
      ],
      "source": [
        "from PIL import Image\n",
        "\n",
        "image = Image.open('data/Astra_MK-1_closeup.jpg')\n",
        "image = image.resize((32, 32))\n",
        "image = np.array(image)\n",
        "\n",
        "tensor_image = torch.from_numpy(image)\n",
        "tensor_image = tensor_image.permute(2, 0, 1).float()\n",
        "\n",
        "output = model(tensor_image.to(device=device).unsqueeze(0))\n",
        "output = F.softmax(output,dim=1)\n",
        "confi, predicted = torch.max(output, dim=1)\n",
        "\n",
        "plt.imshow(image)\n",
        "plt.title(f\"prediction: {class_names[predicted.item()]}, propability: {confi.item():.2f}\")\n",
        "plt.axis('off')\n",
        "plt.show()"
      ]
    },
    {
      "attachments": {},
      "cell_type": "markdown",
      "metadata": {
        "id": "cM9gQ7mJBkUv"
      },
      "source": [
        "Im Gegensatz zu dem Netz davor, wird die LuftLuft Rakete nicht mehr mit einer hohen Wahrscheinlichkeit einem Flugzeug zugeordnet.\n",
        "\n",
        "Das Netz aus dem Buch hat eine Validation Genauigkeit von 90%, die in etwa dem entspricht was mit diesem ResNet erreicht wird. Jedoch sieht man Übertraining, da der Validation Loss im Mittel nicht kleiner wird und sogar leicht ansteigt."
      ]
    }
  ],
  "metadata": {
    "accelerator": "GPU",
    "colab": {
      "gpuType": "T4",
      "provenance": []
    },
    "kernelspec": {
      "display_name": "Python 3",
      "name": "python3"
    },
    "language_info": {
      "codemirror_mode": {
        "name": "ipython",
        "version": 3
      },
      "file_extension": ".py",
      "mimetype": "text/x-python",
      "name": "python",
      "nbconvert_exporter": "python",
      "pygments_lexer": "ipython3",
      "version": "3.9.13"
    },
    "orig_nbformat": 4
  },
  "nbformat": 4,
  "nbformat_minor": 0
}
